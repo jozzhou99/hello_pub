{
 "cells": [
  {
   "cell_type": "code",
   "execution_count": 30,
   "id": "56e0d571-f95e-4e61-a853-239e9dbf0e43",
   "metadata": {},
   "outputs": [],
   "source": [
    "import DevTools_Stats_Utils as Utils\n",
    "import pandas as pd\n",
    "from scipy import stats\n",
    "import numpy as np\n",
    "import statsmodels.api as sm"
   ]
  },
  {
   "cell_type": "code",
   "execution_count": 31,
   "id": "9384c297-4a5b-47ec-a216-d6ce65343f09",
   "metadata": {},
   "outputs": [],
   "source": [
    "df = pd.read_csv(\"data/cuped_info.csv\")\n",
    "df_ratio = pd.read_csv(\"data/找选接确完车主量.csv\")"
   ]
  },
  {
   "cell_type": "code",
   "execution_count": 32,
   "id": "3e020731-a201-46e5-a197-2f9581c198b2",
   "metadata": {},
   "outputs": [
    {
     "data": {
      "text/html": [
       "<div>\n",
       "<style scoped>\n",
       "    .dataframe tbody tr th:only-of-type {\n",
       "        vertical-align: middle;\n",
       "    }\n",
       "\n",
       "    .dataframe tbody tr th {\n",
       "        vertical-align: top;\n",
       "    }\n",
       "\n",
       "    .dataframe thead th {\n",
       "        text-align: right;\n",
       "    }\n",
       "</style>\n",
       "<table border=\"1\" class=\"dataframe\">\n",
       "  <thead>\n",
       "    <tr style=\"text-align: right;\">\n",
       "      <th></th>\n",
       "      <th>group_name</th>\n",
       "      <th>user_id</th>\n",
       "      <th>enter_date</th>\n",
       "      <th>ordercnt_before</th>\n",
       "      <th>ordercnt_after</th>\n",
       "      <th>gmv_before</th>\n",
       "      <th>gmv_after</th>\n",
       "    </tr>\n",
       "  </thead>\n",
       "  <tbody>\n",
       "    <tr>\n",
       "      <th>0</th>\n",
       "      <td>实验组</td>\n",
       "      <td>1000080708</td>\n",
       "      <td>20240525</td>\n",
       "      <td>0.0</td>\n",
       "      <td>0.0</td>\n",
       "      <td>0.0</td>\n",
       "      <td>0.0</td>\n",
       "    </tr>\n",
       "    <tr>\n",
       "      <th>1</th>\n",
       "      <td>实验组</td>\n",
       "      <td>1000205418</td>\n",
       "      <td>20240525</td>\n",
       "      <td>37.0</td>\n",
       "      <td>23.0</td>\n",
       "      <td>3696.0</td>\n",
       "      <td>2639.4</td>\n",
       "    </tr>\n",
       "    <tr>\n",
       "      <th>2</th>\n",
       "      <td>实验组</td>\n",
       "      <td>1000218110</td>\n",
       "      <td>20240530</td>\n",
       "      <td>0.0</td>\n",
       "      <td>0.0</td>\n",
       "      <td>0.0</td>\n",
       "      <td>0.0</td>\n",
       "    </tr>\n",
       "  </tbody>\n",
       "</table>\n",
       "</div>"
      ],
      "text/plain": [
       "  group_name     user_id  enter_date  ordercnt_before  ordercnt_after  \\\n",
       "0        实验组  1000080708    20240525              0.0             0.0   \n",
       "1        实验组  1000205418    20240525             37.0            23.0   \n",
       "2        实验组  1000218110    20240530              0.0             0.0   \n",
       "\n",
       "   gmv_before  gmv_after  \n",
       "0         0.0        0.0  \n",
       "1      3696.0     2639.4  \n",
       "2         0.0        0.0  "
      ]
     },
     "execution_count": 32,
     "metadata": {},
     "output_type": "execute_result"
    }
   ],
   "source": [
    "df.head(3)"
   ]
  },
  {
   "cell_type": "code",
   "execution_count": 33,
   "id": "70ac767a-5690-4bf5-a6ec-3285810667f0",
   "metadata": {},
   "outputs": [
    {
     "data": {
      "text/plain": [
       "Index(['group_name', 'user_id', 'enter_date', 'ordercnt_before',\n",
       "       'ordercnt_after', 'gmv_before', 'gmv_after'],\n",
       "      dtype='object')"
      ]
     },
     "execution_count": 33,
     "metadata": {},
     "output_type": "execute_result"
    }
   ],
   "source": [
    "df.columns"
   ]
  },
  {
   "cell_type": "code",
   "execution_count": 34,
   "id": "cdf7eb6c-7fb9-490c-8d46-2e82a0d1405f",
   "metadata": {},
   "outputs": [
    {
     "data": {
      "text/plain": [
       "32693864"
      ]
     },
     "execution_count": 34,
     "metadata": {},
     "output_type": "execute_result"
    }
   ],
   "source": [
    "df.size"
   ]
  },
  {
   "cell_type": "markdown",
   "id": "38f486d8-54db-45d7-bb0e-e7051302aa1c",
   "metadata": {},
   "source": [
    "### 最小样本量计算（连续型/比率型）"
   ]
  },
  {
   "cell_type": "code",
   "execution_count": 38,
   "id": "dbc7d15a-5e1e-46eb-bd5d-78124c2202c4",
   "metadata": {},
   "outputs": [
    {
     "name": "stdout",
     "output_type": "stream",
     "text": [
      "Cohen's d: 0.00\n",
      "   Power  Required Sample Size\n",
      "0   0.70          2.123256e+06\n",
      "1   0.80          2.700118e+06\n",
      "2   0.90          3.614699e+06\n",
      "3   0.95          4.470361e+06\n",
      "4   0.99          6.320386e+06\n"
     ]
    }
   ],
   "source": [
    "import numpy as np\n",
    "import pandas as pd\n",
    "from statsmodels.stats.power import TTestIndPower\n",
    "\n",
    "data = df.copy()\n",
    "control = data[data['group_name'] == '对照组']['ordercnt_after']\n",
    "treatment = data[data['group_name'] == '实验组']['ordercnt_after']\n",
    "\n",
    "# Calculate means\n",
    "mean_control = np.mean(control)\n",
    "mean_treatment = np.mean(treatment)\n",
    "\n",
    "# Calculate standard deviations\n",
    "std_control = np.std(control, ddof=1)  # ddof=1 for sample standard deviation\n",
    "std_treatment = np.std(treatment, ddof=1)\n",
    "\n",
    "# Calculate pooled standard deviation\n",
    "n_control = len(control)\n",
    "n_treatment = len(treatment)\n",
    "pooled_std = np.sqrt(((n_control - 1) * std_control**2 + (n_treatment - 1) * std_treatment**2) / (n_control + n_treatment - 2))\n",
    "\n",
    "# Calculate Cohen's d\n",
    "cohens_d = (mean_treatment - mean_control) / pooled_std\n",
    "\n",
    "# Print effect size\n",
    "print(f\"Cohen's d: {cohens_d:.2f}\")\n",
    "\n",
    "# Parameters for power analysis\n",
    "alpha = 0.05  # significance level\n",
    "powers = [0.70, 0.80, 0.90, 0.95, 0.99]\n",
    "\n",
    "analysis = TTestIndPower()\n",
    "# Calculate required sample sizes\n",
    "sample_sizes = {power: analysis.solve_power(effect_size=cohens_d, power=power, alpha=alpha, ratio=1.0) for power in powers}\n",
    "sample_sizes_df = pd.DataFrame(list(sample_sizes.items()), columns=['Power', 'Required Sample Size'])\n",
    "print(sample_sizes_df)"
   ]
  },
  {
   "cell_type": "markdown",
   "id": "596fe08b-2978-4846-954d-4560fd1a7a60",
   "metadata": {},
   "source": [
    "### 最小样本量计算（比例型）"
   ]
  },
  {
   "cell_type": "code",
   "execution_count": 40,
   "id": "72da1a2a-402a-4584-9da3-bf13a5bdacea",
   "metadata": {},
   "outputs": [
    {
     "name": "stdout",
     "output_type": "stream",
     "text": [
      "Control Group Proportion: 0.27\n",
      "Experiment Group Proportion: 0.27\n",
      "Cohen's h: 0.00\n",
      "   Power  Required Sample Size\n",
      "0   0.70          8.489263e+05\n",
      "1   0.80          1.079569e+06\n",
      "2   0.90          1.445240e+06\n",
      "3   0.95          1.787353e+06\n",
      "4   0.99          2.527035e+06\n"
     ]
    }
   ],
   "source": [
    "from statsmodels.stats.power import NormalIndPower\n",
    "from statsmodels.stats.proportion import proportion_effectsize\n",
    "\n",
    "# Calculate the metric (proportion)\n",
    "data = df_ratio.copy()\n",
    "data['找完率'] = data['完单车主量'] / data['找单车主量']\n",
    "\n",
    "# Extract proportions\n",
    "p_control = data[data['group_name'] == '对照组']['找完率'].values[0]\n",
    "p_experiment = data[data['group_name'] == '实验组']['找完率'].values[0]\n",
    "\n",
    "# Print proportions\n",
    "print(f\"Control Group Proportion: {p_control:.2f}\")\n",
    "print(f\"Experiment Group Proportion: {p_experiment:.2f}\")\n",
    "\n",
    "# Calculate Cohen's h (effect size for proportions)\n",
    "effect_size = proportion_effectsize(p_experiment, p_control)\n",
    "\n",
    "# Print effect size\n",
    "print(f\"Cohen's h: {effect_size:.2f}\")\n",
    "\n",
    "# Parameters for power analysis\n",
    "alpha = 0.05  # significance level\n",
    "powers = [0.70, 0.80, 0.90, 0.95, 0.99]\n",
    "\n",
    "# Create an instance of the power analysis class\n",
    "analysis = NormalIndPower()\n",
    "\n",
    "# Calculate required sample sizes\n",
    "sample_sizes = {power: analysis.solve_power(effect_size=effect_size, power=power, alpha=alpha, ratio=1.0) for power in powers}\n",
    "\n",
    "# Convert results to a DataFrame for easy viewing\n",
    "sample_sizes_df = pd.DataFrame(list(sample_sizes.items()), columns=['Power', 'Required Sample Size'])\n",
    "print(sample_sizes_df)\n",
    "\n"
   ]
  },
  {
   "cell_type": "code",
   "execution_count": null,
   "id": "ac9f5a05-6132-4be1-8fdb-dedd11eb8900",
   "metadata": {},
   "outputs": [],
   "source": []
  },
  {
   "cell_type": "markdown",
   "id": "3f7c8f41-cc9d-4c1d-b57f-fa4193047105",
   "metadata": {},
   "source": [
    "### 人均累积GMV （welch's t-test)"
   ]
  },
  {
   "cell_type": "code",
   "execution_count": 6,
   "id": "7694f610-3495-44f2-9aba-ae5c866a0e3c",
   "metadata": {},
   "outputs": [
    {
     "name": "stdout",
     "output_type": "stream",
     "text": [
      "T-statistic: 0.4984117131603499\n",
      "人均累积GMV: P-value: 0.6181939060893349\n"
     ]
    }
   ],
   "source": [
    "\n",
    "# Filter data into experimental and control groups\n",
    "experiment_group = df[df['group_name'] == '实验组']['gmv_after']\n",
    "control_group = df[df['group_name'] == '对照组']['gmv_after']\n",
    "\n",
    "# Perform Welch's T-test\n",
    "t_stat, p_value = stats.ttest_ind(experiment_group, control_group, equal_var=True)\n",
    "\n",
    "# Display the results\n",
    "print(f\"T-statistic: {t_stat}\")\n",
    "print(f\"人均累积GMV: P-value: {p_value}\")"
   ]
  },
  {
   "cell_type": "markdown",
   "id": "e7d196c7-516c-414e-917e-425d27c96106",
   "metadata": {},
   "source": [
    "### 人均累积订单量 （welch's t-test)"
   ]
  },
  {
   "cell_type": "code",
   "execution_count": 7,
   "id": "d9f908e5-b7f0-4242-98fd-1001702a99dd",
   "metadata": {},
   "outputs": [
    {
     "name": "stdout",
     "output_type": "stream",
     "text": [
      "T-statistic: 2.605440396403712\n",
      "人均累积订单量: P-value: 0.009175652747305557\n"
     ]
    }
   ],
   "source": [
    "# Filter data into experimental and control groups\n",
    "experiment_group = df[df['group_name'] == '实验组']['ordercnt_after']\n",
    "control_group = df[df['group_name'] == '对照组']['ordercnt_after']\n",
    "\n",
    "# Perform Welch's T-test\n",
    "t_stat, p_value = stats.ttest_ind(experiment_group, control_group, equal_var=True)\n",
    "\n",
    "# Display the results\n",
    "print(f\"T-statistic: {t_stat}\")\n",
    "print(f\"人均累积订单量: P-value: {p_value}\")"
   ]
  },
  {
   "cell_type": "markdown",
   "id": "296edf75-70c7-44a6-9911-00a6bb0f9fa8",
   "metadata": {},
   "source": [
    "#### 人均累积订单量（样本不足/原样本量1%case)"
   ]
  },
  {
   "cell_type": "code",
   "execution_count": 8,
   "id": "835cffed-2c4e-4896-b67e-0772f99bd8c8",
   "metadata": {},
   "outputs": [
    {
     "name": "stdout",
     "output_type": "stream",
     "text": [
      "T-statistic: 1.3657256832468518\n",
      "样本不足：人均累积订单量: P-value: 0.17203166342350246\n"
     ]
    }
   ],
   "source": [
    "proportion = 0.01\n",
    "sampled_df = df.sample(frac=proportion, random_state=1)\n",
    "\n",
    "experiment_group = sampled_df[sampled_df['group_name'] == '实验组']['ordercnt_after']\n",
    "control_group = sampled_df[sampled_df['group_name'] == '对照组']['ordercnt_after']\n",
    "\n",
    "# Welch's T-test\n",
    "t_stat, p_value = stats.ttest_ind(experiment_group, control_group, equal_var=False)\n",
    "\n",
    "print(f\"T-statistic: {t_stat}\")\n",
    "print(f\"样本不足：人均累积订单量: P-value: {p_value}\")"
   ]
  },
  {
   "cell_type": "markdown",
   "id": "a3ad5815-e50d-4dbb-a5fe-903d2f8d9467",
   "metadata": {},
   "source": [
    "#### 样本不足时的解决方法：检查数据独立性->(block)bootstrap+t-test"
   ]
  },
  {
   "cell_type": "code",
   "execution_count": 14,
   "id": "165bca21-b852-4593-b5f8-5e11323ecf9e",
   "metadata": {},
   "outputs": [
    {
     "name": "stdout",
     "output_type": "stream",
     "text": [
      "数据为独立, 使用Bootstrap + T-test\n",
      "Bootstrap t-test - Observed difference: 0.0634719049470085, 样本不足：人均累积订单量 P-value: 0.5048\n"
     ]
    }
   ],
   "source": [
    "import pandas as pd\n",
    "from scipy import stats\n",
    "import numpy as np\n",
    "import statsmodels.api as sm\n",
    "\n",
    "def bootstrap_ttest(data1, data2, n_bootstraps=10000):\n",
    "    bootstrapped_means_diff = []\n",
    "    for _ in range(n_bootstraps):\n",
    "        sample1 = np.random.choice(data1, size=len(data1), replace=True)\n",
    "        sample2 = np.random.choice(data2, size=len(data2), replace=True)\n",
    "        bootstrapped_means_diff.append(sample1.mean() - sample2.mean())\n",
    "    \n",
    "    observed_diff = np.mean(data1) - np.mean(data2)\n",
    "    p_value = np.mean(np.array(bootstrapped_means_diff) >= observed_diff)\n",
    "    \n",
    "    return observed_diff, p_value\n",
    "\n",
    "def block_bootstrap_ttest(data1, data2, block_size, n_bootstraps=10000):\n",
    "    def block_bootstrap_sample(data, block_size):\n",
    "        n_blocks = np.int32(np.ceil(len(data) / block_size))\n",
    "        blocks = [data[i * block_size:(i + 1) * block_size] for i in range(n_blocks)]\n",
    "        bootstrap_sample = np.concatenate([blocks[np.random.randint(0, n_blocks)] for _ in range(n_blocks)])\n",
    "        return bootstrap_sample[:len(data)]\n",
    "    \n",
    "    bootstrapped_means_diff = []\n",
    "    for _ in range(n_bootstraps):\n",
    "        sample1 = block_bootstrap_sample(data1, block_size)\n",
    "        sample2 = block_bootstrap_sample(data2, block_size)\n",
    "        bootstrapped_means_diff.append(sample1.mean() - sample2.mean())\n",
    "    \n",
    "    observed_diff = np.mean(data1) - np.mean(data2)\n",
    "    p_value = np.mean(np.array(bootstrapped_means_diff) >= observed_diff)\n",
    "    \n",
    "    return observed_diff, p_value\n",
    "\n",
    "\n",
    "\n",
    "# Check for dependency in the 'ordercnt_after' column\n",
    "autocorrelation = sm.tsa.acf(sampled_df['ordercnt_after'], fft=False, nlags = np.round(np.sqrt(sampled_df.shape[0])))\n",
    "# Check if there is significant autocorrelation \n",
    "dependency_present = np.any(np.abs(autocorrelation[1:]) > 0.3) \n",
    "\n",
    "if dependency_present:\n",
    "    print(\"数据为不独立, 使用Block Bootstrap + T-test\")\n",
    "else:\n",
    "    print(\"数据为独立, 使用Bootstrap + T-test\")\n",
    "\n",
    "if dependency_present:\n",
    "    block_size = int(np.round(sampled_df.shape[0]/1000)) \n",
    "    observed_diff, p_value = block_bootstrap_ttest(experiment_group, control_group, block_size)\n",
    "    print(f\"Block Bootstrap t-test - Observed difference: {observed_diff}, P-value: {p_value}\")\n",
    "else:\n",
    "    observed_diff, p_value = bootstrap_ttest(experiment_group, control_group)\n",
    "    print(f\"Bootstrap t-test - Observed difference: {observed_diff}, 样本不足：人均累积订单量 P-value: {p_value}\")\n",
    "\n"
   ]
  },
  {
   "cell_type": "markdown",
   "id": "94f57888-768a-4cac-9743-e959aeb16bfb",
   "metadata": {},
   "source": [
    "#### Stratified Bootstrap+t-test"
   ]
  },
  {
   "cell_type": "code",
   "execution_count": 15,
   "id": "2a8e9dec-4e5c-4127-a704-71104955a184",
   "metadata": {},
   "outputs": [
    {
     "name": "stdout",
     "output_type": "stream",
     "text": [
      "数据为独立, 使用Bootstrap + T-test\n",
      "Stratified Bootstrap t-test - Observed difference: 0.0634719049470085, 样本不足：人均累积订单量 P-value: 0.0308\n"
     ]
    }
   ],
   "source": [
    "import pandas as pd\n",
    "import numpy as np\n",
    "import statsmodels.api as sm\n",
    "from scipy import stats\n",
    "\n",
    "# Define the stratified bootstrap t-test function\n",
    "def stratified_bootstrap_ttest(df, group_col, value_col, strata_cols, n_bootstraps=10000):\n",
    "    strata = df.groupby(strata_cols)\n",
    "    bootstrapped_means_diff = []\n",
    "\n",
    "    for _ in range(n_bootstraps):\n",
    "        bootstrapped_means = []\n",
    "\n",
    "        for stratum_name, stratum_df in strata:\n",
    "            experiment_group = stratum_df[stratum_df[group_col] == '实验组'][value_col].values\n",
    "            control_group = stratum_df[stratum_df[group_col] == '对照组'][value_col].values\n",
    "\n",
    "            if len(experiment_group) > 0 and len(control_group) > 0:\n",
    "                sample1 = np.random.choice(experiment_group, size=len(experiment_group), replace=True)\n",
    "                sample2 = np.random.choice(control_group, size=len(control_group), replace=True)\n",
    "                bootstrapped_means.append(sample1.mean() - sample2.mean())\n",
    "\n",
    "        if bootstrapped_means:\n",
    "            bootstrapped_means_diff.append(np.mean(bootstrapped_means))\n",
    "\n",
    "    observed_diff = df[df[group_col] == '实验组'][value_col].mean() - df[df[group_col] == '对照组'][value_col].mean()\n",
    "    p_value = np.mean(np.array(bootstrapped_means_diff) >= observed_diff)\n",
    "    \n",
    "    return observed_diff, p_value\n",
    "\n",
    "# Check for dependency in the 'ordercnt_after' column\n",
    "nlag = int(np.sqrt(sampled_df.shape[0]))\n",
    "autocorrelation = sm.tsa.acf(sampled_df['ordercnt_after'], fft=False, nlags=nlag)\n",
    "dependency_threshold = 0.3\n",
    "dependency_present = np.any(np.abs(autocorrelation[1:]) > dependency_threshold)\n",
    "\n",
    "if dependency_present:\n",
    "    print(\"数据为不独立, 使用Block Bootstrap + T-test\")\n",
    "else:\n",
    "    print(\"数据为独立, 使用Bootstrap + T-test\")\n",
    "\n",
    "# Define columns for stratification\n",
    "strata_cols = ['enter_date']  # Ensure this column exists in sampled_df\n",
    "\n",
    "# Apply stratified bootstrap t-test\n",
    "observed_diff, p_value = stratified_bootstrap_ttest(sampled_df, 'group_name', 'ordercnt_after', strata_cols)\n",
    "print(f\"Stratified Bootstrap t-test - Observed difference: {observed_diff}, 样本不足：人均累积订单量 P-value: {p_value}\")\n",
    "\n",
    "\n",
    "\n"
   ]
  },
  {
   "cell_type": "markdown",
   "id": "25f2df08-b62c-4d9e-af8b-72a1ad88f0bd",
   "metadata": {},
   "source": [
    "### 比例类"
   ]
  },
  {
   "cell_type": "code",
   "execution_count": 16,
   "id": "27c14c5c-5eeb-4655-8323-88774bfd5bcd",
   "metadata": {},
   "outputs": [
    {
     "data": {
      "text/html": [
       "<div>\n",
       "<style scoped>\n",
       "    .dataframe tbody tr th:only-of-type {\n",
       "        vertical-align: middle;\n",
       "    }\n",
       "\n",
       "    .dataframe tbody tr th {\n",
       "        vertical-align: top;\n",
       "    }\n",
       "\n",
       "    .dataframe thead th {\n",
       "        text-align: right;\n",
       "    }\n",
       "</style>\n",
       "<table border=\"1\" class=\"dataframe\">\n",
       "  <thead>\n",
       "    <tr style=\"text-align: right;\">\n",
       "      <th></th>\n",
       "      <th>group_name</th>\n",
       "      <th>找单车主量</th>\n",
       "      <th>选单车主量</th>\n",
       "      <th>接单车主量</th>\n",
       "      <th>确认同行车主量</th>\n",
       "      <th>完单车主量</th>\n",
       "      <th>找选率</th>\n",
       "      <th>选接率</th>\n",
       "      <th>接确率</th>\n",
       "      <th>接完率</th>\n",
       "      <th>找完率</th>\n",
       "      <th>确完率</th>\n",
       "    </tr>\n",
       "  </thead>\n",
       "  <tbody>\n",
       "    <tr>\n",
       "      <th>0</th>\n",
       "      <td>实验组</td>\n",
       "      <td>2123007</td>\n",
       "      <td>1632338</td>\n",
       "      <td>874264</td>\n",
       "      <td>660821</td>\n",
       "      <td>577206</td>\n",
       "      <td>0.768880</td>\n",
       "      <td>0.535590</td>\n",
       "      <td>0.755860</td>\n",
       "      <td>0.660219</td>\n",
       "      <td>0.271881</td>\n",
       "      <td>0.873468</td>\n",
       "    </tr>\n",
       "    <tr>\n",
       "      <th>1</th>\n",
       "      <td>对照组</td>\n",
       "      <td>2121454</td>\n",
       "      <td>1632066</td>\n",
       "      <td>871690</td>\n",
       "      <td>657560</td>\n",
       "      <td>573188</td>\n",
       "      <td>0.769315</td>\n",
       "      <td>0.534102</td>\n",
       "      <td>0.754351</td>\n",
       "      <td>0.657559</td>\n",
       "      <td>0.270186</td>\n",
       "      <td>0.871689</td>\n",
       "    </tr>\n",
       "  </tbody>\n",
       "</table>\n",
       "</div>"
      ],
      "text/plain": [
       "  group_name    找单车主量    选单车主量   接单车主量  确认同行车主量   完单车主量       找选率       选接率  \\\n",
       "0        实验组  2123007  1632338  874264   660821  577206  0.768880  0.535590   \n",
       "1        对照组  2121454  1632066  871690   657560  573188  0.769315  0.534102   \n",
       "\n",
       "        接确率       接完率       找完率       确完率  \n",
       "0  0.755860  0.660219  0.271881  0.873468  \n",
       "1  0.754351  0.657559  0.270186  0.871689  "
      ]
     },
     "execution_count": 16,
     "metadata": {},
     "output_type": "execute_result"
    }
   ],
   "source": [
    "df_ratio['找选率'] = df_ratio['选单车主量'] / df_ratio['找单车主量']\n",
    "df_ratio['选接率'] = df_ratio['接单车主量'] / df_ratio['选单车主量']\n",
    "df_ratio['接确率'] = df_ratio['确认同行车主量'] / df_ratio['接单车主量']\n",
    "df_ratio['接完率'] = df_ratio['完单车主量'] / df_ratio['接单车主量']\n",
    "df_ratio['找完率'] = df_ratio['完单车主量'] / df_ratio['找单车主量']\n",
    "df_ratio['确完率'] = df_ratio['完单车主量'] / df_ratio['确认同行车主量']\n",
    "df_ratio.head()"
   ]
  },
  {
   "cell_type": "code",
   "execution_count": 18,
   "id": "161b12c0-70b7-4f42-a490-2606accc70ce",
   "metadata": {},
   "outputs": [
    {
     "data": {
      "text/plain": [
       "Index(['group_name', '找单车主量', '选单车主量', '接单车主量', '确认同行车主量', '完单车主量', '找选率',\n",
       "       '选接率', '接确率', '接完率', '找完率', '确完率'],\n",
       "      dtype='object')"
      ]
     },
     "execution_count": 18,
     "metadata": {},
     "output_type": "execute_result"
    }
   ],
   "source": [
    "df_ratio.columns"
   ]
  },
  {
   "cell_type": "code",
   "execution_count": 19,
   "id": "756d0765-b94e-4f87-900d-a791c636d80f",
   "metadata": {},
   "outputs": [
    {
     "name": "stdout",
     "output_type": "stream",
     "text": [
      "  group_name    找单车主量    选单车主量   接单车主量  确认同行车主量   完单车主量       找选率       选接率  \\\n",
      "0        实验组  2123007  1632338  874264   660821  577206  0.768880  0.535590   \n",
      "1        对照组  2121454  1632066  871690   657560  573188  0.769315  0.534102   \n",
      "\n",
      "        接确率       接完率       找完率       确完率  \n",
      "0  0.755860  0.660219  0.271881  0.873468  \n",
      "1  0.754351  0.657559  0.270186  0.871689  \n"
     ]
    }
   ],
   "source": [
    "print(df_ratio)"
   ]
  },
  {
   "cell_type": "code",
   "execution_count": 21,
   "id": "0ab2f862-1050-41ac-98d8-cbb05b1b16f2",
   "metadata": {},
   "outputs": [
    {
     "data": {
      "text/plain": [
       "{'找选率': {'chi2': 0.1467652692468367, 'p-value': 0.7016459493672567},\n",
       " '选接率': {'chi2': 2.198049071476394, 'p-value': 0.13818553068264816},\n",
       " '接确率': {'chi2': 0.7480069557528477, 'p-value': 0.3871079748972641},\n",
       " '接完率': {'chi2': 2.82128184892715, 'p-value': 0.09302208802874981},\n",
       " '找完率': {'chi2': 8.842820211454482, 'p-value': 0.0029424411210696236},\n",
       " '确完率': {'chi2': 0.6361569505902359, 'p-value': 0.42510585680806423}}"
      ]
     },
     "execution_count": 21,
     "metadata": {},
     "output_type": "execute_result"
    }
   ],
   "source": [
    "metrics_data = { '找选率': ['找单车主量', '选单车主量'], \n",
    "                '选接率': ['选单车主量', '接单车主量'], \n",
    "                '接确率': ['接单车主量', '确认同行车主量'], \n",
    "                '接完率': ['接单车主量', '完单车主量'], \n",
    "                '找完率': ['找单车主量', '完单车主量'], \n",
    "                '确完率': ['确认同行车主量', '完单车主量'] }\n",
    "\n",
    "\n",
    "\n",
    "# Define a function to perform the Chi-Square test\n",
    "def chi_square_test(observed):\n",
    "    chi2, p, _, _ = stats.chi2_contingency(observed)\n",
    "    return chi2, p\n",
    "\n",
    "# Perform the test for each metric\n",
    "results = {}\n",
    "\n",
    "for metric, counts in metrics_data.items():\n",
    "    group_1 = df_ratio.loc[0, counts].values\n",
    "    group_2 = df_ratio.loc[1, counts].values\n",
    "    observed = [group_1, group_2]\n",
    "    chi2, p = chi_square_test(observed)\n",
    "    results[metric] = {'chi2': chi2, 'p-value': p}\n",
    "\n",
    "results"
   ]
  },
  {
   "cell_type": "code",
   "execution_count": 22,
   "id": "938372de-1d49-426d-8f33-42c58dd799e6",
   "metadata": {},
   "outputs": [
    {
     "data": {
      "text/plain": [
       "{'找选率': {'z-stat': -1.0624460418419583, 'p-value': 0.28803324134874464},\n",
       " '选接率': {'z-stat': 2.6948048420335984, 'p-value': 0.007042986877449176},\n",
       " '接确率': {'z-stat': 2.3184326330237774, 'p-value': 0.020425820243672496},\n",
       " '接完率': {'z-stat': 3.7067694409956724, 'p-value': 0.00020991988561144383},\n",
       " '找完率': {'z-stat': 3.928020195957203, 'p-value': 8.564802014609073e-05},\n",
       " '确完率': {'z-stat': 3.06251798875766, 'p-value': 0.0021948328303156776}}"
      ]
     },
     "execution_count": 22,
     "metadata": {},
     "output_type": "execute_result"
    }
   ],
   "source": [
    "from statsmodels.stats.proportion import proportions_ztest\n",
    "\n",
    "# two-sample proportion test\n",
    "def two_sample_proportion_test(success_a, size_a, success_b, size_b):\n",
    "    count = np.array([success_a, success_b])\n",
    "    nobs = np.array([size_a, size_b])\n",
    "    stat, pval = proportions_ztest(count, nobs)\n",
    "    return stat, pval\n",
    "\n",
    "# Perform the test for each metric\n",
    "results = {}\n",
    "\n",
    "for metric, counts in metrics_data.items():\n",
    "    success_a = df_ratio.loc[0, counts[1]]\n",
    "    size_a = df_ratio.loc[0, counts[0]]\n",
    "    success_b = df_ratio.loc[1, counts[1]]\n",
    "    size_b = df_ratio.loc[1, counts[0]]\n",
    "    \n",
    "    stat, pval = two_sample_proportion_test(success_a, size_a, success_b, size_b)\n",
    "    results[metric] = {'z-stat': stat, 'p-value': pval}\n",
    "\n",
    "# Display the results\n",
    "results"
   ]
  },
  {
   "cell_type": "code",
   "execution_count": 23,
   "id": "84011be5-5ff4-4dfa-b97a-a6fa3bace8b7",
   "metadata": {},
   "outputs": [
    {
     "data": {
      "text/plain": [
       "Index(['group_name', 'user_id', 'enter_date', 'ordercnt_before',\n",
       "       'ordercnt_after', 'gmv_before', 'gmv_after'],\n",
       "      dtype='object')"
      ]
     },
     "execution_count": 23,
     "metadata": {},
     "output_type": "execute_result"
    }
   ],
   "source": [
    "df.columns"
   ]
  },
  {
   "cell_type": "code",
   "execution_count": null,
   "id": "6a1cc9cf-2d2e-4522-b41a-4e3466db09d7",
   "metadata": {},
   "outputs": [],
   "source": []
  }
 ],
 "metadata": {
  "kernelspec": {
   "display_name": "Python 3 (ipykernel)",
   "language": "python",
   "name": "python3"
  },
  "language_info": {
   "codemirror_mode": {
    "name": "ipython",
    "version": 3
   },
   "file_extension": ".py",
   "mimetype": "text/x-python",
   "name": "python",
   "nbconvert_exporter": "python",
   "pygments_lexer": "ipython3",
   "version": "3.11.7"
  }
 },
 "nbformat": 4,
 "nbformat_minor": 5
}
